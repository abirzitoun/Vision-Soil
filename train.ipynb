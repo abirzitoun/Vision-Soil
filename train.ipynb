version https://git-lfs.github.com/spec/v1
oid sha256:2c10819943345d2c0e0b7e585c56e6510efe7fb709d0063a7abf2757dee9e049
size 494098333
